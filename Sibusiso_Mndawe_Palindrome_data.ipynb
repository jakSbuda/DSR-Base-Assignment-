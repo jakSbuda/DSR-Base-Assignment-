{
  "nbformat": 4,
  "nbformat_minor": 0,
  "metadata": {
    "colab": {
      "name": "Sibusiso Mndawe Palindrome data.ipynb",
      "provenance": [],
      "collapsed_sections": []
    },
    "kernelspec": {
      "name": "python3",
      "display_name": "Python 3"
    },
    "language_info": {
      "name": "python"
    }
  },
  "cells": [
    {
      "cell_type": "markdown",
      "metadata": {
        "id": "7JcNup7e3M6z"
      },
      "source": [
        "Notebook done in Google Colab, comment out the second cell if not using google colab"
      ]
    },
    {
      "cell_type": "code",
      "metadata": {
        "id": "Ri5C7qvGbNNG",
        "colab": {
          "base_uri": "https://localhost:8080/"
        },
        "outputId": "a44a08c6-af23-4dd5-c0d5-b9d84ffcf9c0"
      },
      "source": [
        "import pandas as pd\n",
        "import numpy as np \n",
        "import re\n",
        "from scipy.stats import sem\n",
        "import matplotlib.pyplot as plt\n",
        "import seaborn as sns\n",
        "sns.set()\n",
        "%pylab inline"
      ],
      "execution_count": 65,
      "outputs": [
        {
          "output_type": "stream",
          "name": "stdout",
          "text": [
            "Populating the interactive namespace from numpy and matplotlib\n"
          ]
        }
      ]
    },
    {
      "cell_type": "code",
      "metadata": {
        "colab": {
          "resources": {
            "http://localhost:8080/nbextensions/google.colab/files.js": {
              "data": "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",
              "ok": true,
              "headers": [
                [
                  "content-type",
                  "application/javascript"
                ]
              ],
              "status": 200,
              "status_text": "OK"
            }
          },
          "base_uri": "https://localhost:8080/",
          "height": 90
        },
        "id": "1QDeGcvObTQw",
        "outputId": "c0a0eb0b-e14c-4889-dcb9-7cb693893639"
      },
      "source": [
        "from google.colab import files\n",
        "uploaded = files.upload()"
      ],
      "execution_count": 28,
      "outputs": [
        {
          "output_type": "display_data",
          "data": {
            "text/html": [
              "\n",
              "     <input type=\"file\" id=\"files-cff47d9d-acf2-4ba0-9e70-fcab2a4b1bad\" name=\"files[]\" multiple disabled\n",
              "        style=\"border:none\" />\n",
              "     <output id=\"result-cff47d9d-acf2-4ba0-9e70-fcab2a4b1bad\">\n",
              "      Upload widget is only available when the cell has been executed in the\n",
              "      current browser session. Please rerun this cell to enable.\n",
              "      </output>\n",
              "      <script src=\"/nbextensions/google.colab/files.js\"></script> "
            ],
            "text/plain": [
              "<IPython.core.display.HTML object>"
            ]
          },
          "metadata": {}
        },
        {
          "output_type": "stream",
          "name": "stdout",
          "text": [
            "Saving pone.0212445.s004.xlsx to pone.0212445.s004 (5).xlsx\n"
          ]
        }
      ]
    },
    {
      "cell_type": "code",
      "metadata": {
        "id": "2ffbhHPWbTpX"
      },
      "source": [
        "raw_df = pd.read_excel('pone.0212445.s004.xlsx',skiprows=[0]) "
      ],
      "execution_count": 29,
      "outputs": []
    },
    {
      "cell_type": "code",
      "metadata": {
        "id": "TVAr2exQm7gp"
      },
      "source": [
        "df = raw_df"
      ],
      "execution_count": 30,
      "outputs": []
    },
    {
      "cell_type": "code",
      "metadata": {
        "colab": {
          "base_uri": "https://localhost:8080/",
          "height": 348
        },
        "id": "6fwRYKWNb4Wo",
        "outputId": "23b1ce22-347f-419b-c465-994d0206dd64"
      },
      "source": [
        "df.head()"
      ],
      "execution_count": 31,
      "outputs": [
        {
          "output_type": "execute_result",
          "data": {
            "text/html": [
              "<div>\n",
              "<style scoped>\n",
              "    .dataframe tbody tr th:only-of-type {\n",
              "        vertical-align: middle;\n",
              "    }\n",
              "\n",
              "    .dataframe tbody tr th {\n",
              "        vertical-align: top;\n",
              "    }\n",
              "\n",
              "    .dataframe thead th {\n",
              "        text-align: right;\n",
              "    }\n",
              "</style>\n",
              "<table border=\"1\" class=\"dataframe\">\n",
              "  <thead>\n",
              "    <tr style=\"text-align: right;\">\n",
              "      <th></th>\n",
              "      <th>District</th>\n",
              "      <th>Code</th>\n",
              "      <th>Estimate</th>\n",
              "      <th>Prevalence_%</th>\n",
              "      <th>Prevalence_LCL</th>\n",
              "      <th>Prevalence_UCL</th>\n",
              "      <th>NoPLHIV</th>\n",
              "      <th>NoPLHIV_LCL</th>\n",
              "      <th>NoPLHIV_UCL</th>\n",
              "    </tr>\n",
              "  </thead>\n",
              "  <tbody>\n",
              "    <tr>\n",
              "      <th>0</th>\n",
              "      <td>Buffalo City</td>\n",
              "      <td>BUF</td>\n",
              "      <td>Survey</td>\n",
              "      <td>13.600000</td>\n",
              "      <td>10.268000</td>\n",
              "      <td>16.932000</td>\n",
              "      <td>102437</td>\n",
              "      <td>77340</td>\n",
              "      <td>127534</td>\n",
              "    </tr>\n",
              "    <tr>\n",
              "      <th>1</th>\n",
              "      <td>Buffalo City</td>\n",
              "      <td>BUF</td>\n",
              "      <td>Fay-Heriott</td>\n",
              "      <td>13.501283</td>\n",
              "      <td>11.031605</td>\n",
              "      <td>16.421802</td>\n",
              "      <td>101693</td>\n",
              "      <td>83092</td>\n",
              "      <td>123691</td>\n",
              "    </tr>\n",
              "    <tr>\n",
              "      <th>2</th>\n",
              "      <td>City of Cape Town</td>\n",
              "      <td>CPT</td>\n",
              "      <td>Survey</td>\n",
              "      <td>5.200000</td>\n",
              "      <td>3.044000</td>\n",
              "      <td>7.356000</td>\n",
              "      <td>200751</td>\n",
              "      <td>117517</td>\n",
              "      <td>283985</td>\n",
              "    </tr>\n",
              "    <tr>\n",
              "      <th>3</th>\n",
              "      <td>City of Cape Town</td>\n",
              "      <td>CPT</td>\n",
              "      <td>Fay-Heriott</td>\n",
              "      <td>6.020043</td>\n",
              "      <td>4.335072</td>\n",
              "      <td>8.303091</td>\n",
              "      <td>232409</td>\n",
              "      <td>167359</td>\n",
              "      <td>320548</td>\n",
              "    </tr>\n",
              "    <tr>\n",
              "      <th>4</th>\n",
              "      <td>West Coast</td>\n",
              "      <td>DC1</td>\n",
              "      <td>Survey</td>\n",
              "      <td>2.700000</td>\n",
              "      <td>0.000000</td>\n",
              "      <td>5.444000</td>\n",
              "      <td>11302</td>\n",
              "      <td>0</td>\n",
              "      <td>22789</td>\n",
              "    </tr>\n",
              "  </tbody>\n",
              "</table>\n",
              "</div>"
            ],
            "text/plain": [
              "            District Code     Estimate  ...  NoPLHIV  NoPLHIV_LCL  NoPLHIV_UCL\n",
              "0       Buffalo City  BUF       Survey  ...   102437        77340       127534\n",
              "1       Buffalo City  BUF  Fay-Heriott  ...   101693        83092       123691\n",
              "2  City of Cape Town  CPT       Survey  ...   200751       117517       283985\n",
              "3  City of Cape Town  CPT  Fay-Heriott  ...   232409       167359       320548\n",
              "4         West Coast  DC1       Survey  ...    11302            0        22789\n",
              "\n",
              "[5 rows x 9 columns]"
            ]
          },
          "metadata": {},
          "execution_count": 31
        }
      ]
    },
    {
      "cell_type": "markdown",
      "metadata": {
        "id": "l2nRBiprhBkJ"
      },
      "source": [
        "What is the total number of people living with HIV (NoPLHIV) in the listed districts according to the Survey estimate?"
      ]
    },
    {
      "cell_type": "code",
      "metadata": {
        "colab": {
          "base_uri": "https://localhost:8080/"
        },
        "id": "Vu5tMQaKiwq5",
        "outputId": "d37fe0ff-98b6-4dd4-9698-c489d454a76d"
      },
      "source": [
        "df.loc[df['Estimate'] == 'Survey', 'NoPLHIV'].sum()"
      ],
      "execution_count": 32,
      "outputs": [
        {
          "output_type": "execute_result",
          "data": {
            "text/plain": [
              "6409903"
            ]
          },
          "metadata": {},
          "execution_count": 32
        }
      ]
    },
    {
      "cell_type": "markdown",
      "metadata": {
        "id": "nHdNK992ifYS"
      },
      "source": [
        "What is the average NoPLHIV of the two estimates used for “Xhariep”?"
      ]
    },
    {
      "cell_type": "code",
      "metadata": {
        "id": "3ZSM0ijElRaq",
        "colab": {
          "base_uri": "https://localhost:8080/"
        },
        "outputId": "704af6b1-c388-4acf-bb3c-88a415d47250"
      },
      "source": [
        "df['District'].value_counts()"
      ],
      "execution_count": 33,
      "outputs": [
        {
          "output_type": "execute_result",
          "data": {
            "text/plain": [
              "Buffalo City                 2\n",
              "Ngaka Modiri Molema          2\n",
              "Ugu                          2\n",
              "Nelson Mandela Bay Metro     2\n",
              "Bojanala Platinum            2\n",
              "Amajuba                      2\n",
              "Ehlanzeni                    2\n",
              "City of Johannesburg         2\n",
              "Nkangala                     2\n",
              "iLembe                       2\n",
              "City of Tshwane              2\n",
              "Eden                         2\n",
              "Mangaung                     2\n",
              "Xhariep                      2\n",
              "Gert Sibande                 2\n",
              "Zululand                     2\n",
              "uMzinyathi                   2\n",
              "uMkhanyakude                 2\n",
              "eThekwini                    2\n",
              "City of Cape Town            2\n",
              "Sedibeng                     2\n",
              "Thabo Mofutsanyana           2\n",
              "Siyanda                      2\n",
              "West Rand                    2\n",
              "Chris Hani                   2\n",
              "Dr Kenneth Kaunda            2\n",
              "uThukela                     2\n",
              "John Taolo Gaetsewe          2\n",
              "uMgungundlovu                2\n",
              "Waterberg                    2\n",
              "Fezile Dabi                  2\n",
              "Central Karoo                2\n",
              "Mopani                       2\n",
              "Pixley ka Seme               2\n",
              "Cacadu                       2\n",
              "uThungulu                    2\n",
              "Vhembe                       2\n",
              "Dr Ruth Segomotsi Mompati    2\n",
              "Sisonke                      2\n",
              "Ekurhuleni                   2\n",
              "Cape Winelands               2\n",
              "Amatole                      2\n",
              "Capricorn                    2\n",
              "Namakwa                      2\n",
              "Lejweleputswa                2\n",
              "Sekhukhune                   2\n",
              "Joe Gqabi                    2\n",
              "Overberg                     2\n",
              "West Coast                   2\n",
              "Frances Baard                2\n",
              "Alfred Nzo                   2\n",
              "O.R. Tambo                   2\n",
              "Name: District, dtype: int64"
            ]
          },
          "metadata": {},
          "execution_count": 33
        }
      ]
    },
    {
      "cell_type": "code",
      "metadata": {
        "colab": {
          "base_uri": "https://localhost:8080/"
        },
        "id": "_PGXi1JQgdXJ",
        "outputId": "fc51085d-7090-4ab9-c215-eb7636987122"
      },
      "source": [
        "X_sum = df.loc[df['District'] == 'Xhariep', 'NoPLHIV'].sum()\n",
        "X_sum\n",
        "X_mean = X_sum//2\n",
        "print(\"The mean is : \" + str(X_mean))"
      ],
      "execution_count": 34,
      "outputs": [
        {
          "output_type": "stream",
          "name": "stdout",
          "text": [
            "The mean is : 12247\n"
          ]
        }
      ]
    },
    {
      "cell_type": "markdown",
      "metadata": {
        "id": "hk-6Rz2umtha"
      },
      "source": [
        "Add a column and populate it with the number of people not living with HIV for each row."
      ]
    },
    {
      "cell_type": "code",
      "metadata": {
        "id": "wF_smLMKnYDq",
        "colab": {
          "base_uri": "https://localhost:8080/"
        },
        "outputId": "d36ce5af-09cd-4021-82fe-0f1be3afe195"
      },
      "source": [
        "Prevalence_list = df['Prevalence_%'].tolist()\n",
        "NoPLHIV_list = df['NoPLHIV'].tolist()\n",
        "\n",
        "Total = [(i / j)*100 for i, j in zip(NoPLHIV_list, Prevalence_list)]\n",
        "Total\n"
      ],
      "execution_count": 35,
      "outputs": [
        {
          "output_type": "execute_result",
          "data": {
            "text/plain": [
              "[753213.2352941177,\n",
              " 753209.8792607372,\n",
              " 3860596.153846154,\n",
              " 3860587.2840686925,\n",
              " 418592.5925925926,\n",
              " 418607.23580113973,\n",
              " 457000.0,\n",
              " 456993.1747644747,\n",
              " 898945.4545454546,\n",
              " 898952.1122232694,\n",
              " 803139.8601398602,\n",
              " 803139.976418116,\n",
              " 352953.2710280374,\n",
              " 352960.4873682088,\n",
              " 1358915.254237288,\n",
              " 1358916.1524249641,\n",
              " 141891.56626506025,\n",
              " 141893.35351335348,\n",
              " 610187.1921182266,\n",
              " 610189.773536605,\n",
              " 723308.1761006289,\n",
              " 723308.7285928508,\n",
              " 808052.6315789474,\n",
              " 808044.647082605,\n",
              " 506111.1111111111,\n",
              " 506113.4874722062,\n",
              " 733225.641025641,\n",
              " 733229.3779527526,\n",
              " 1052728.5714285714,\n",
              " 1052729.5286235043,\n",
              " 682797.6878612716,\n",
              " 682796.5118245058,\n",
              " 514214.2857142858,\n",
              " 514217.9851657415,\n",
              " 507469.1358024692,\n",
              " 507467.4827935595,\n",
              " 824091.3461538461,\n",
              " 824089.6506089733,\n",
              " 638007.4074074074,\n",
              " 638010.3813358435,\n",
              " 937791.9075144507,\n",
              " 937791.8369163005,\n",
              " 630467.7419354838,\n",
              " 630463.7955380593,\n",
              " 272624.0,\n",
              " 272626.33497830486,\n",
              " 1056177.6649746192,\n",
              " 1056176.8639799163,\n",
              " 1357741.9354838708,\n",
              " 1357747.7775341696,\n",
              " 1714048.7804878051,\n",
              " 1714048.9128656606,\n",
              " 771649.1228070175,\n",
              " 771644.2963560167,\n",
              " 1327792.452830189,\n",
              " 1327787.0023580345,\n",
              " 1264684.7826086958,\n",
              " 1264686.9554128028,\n",
              " 708683.1683168317,\n",
              " 708682.9175171985,\n",
              " 1565470.5882352942,\n",
              " 1565473.3771482408,\n",
              " 852615.9420289854,\n",
              " 852615.9617743199,\n",
              " 472018.34862385324,\n",
              " 472022.55822223116,\n",
              " 585837.2093023256,\n",
              " 585831.6286681507,\n",
              " 707475.8620689654,\n",
              " 707475.8715647977,\n",
              " 915337.9629629629,\n",
              " 915338.6488953101,\n",
              " 471905.2132701421,\n",
              " 471902.85526077426,\n",
              " 821755.905511811,\n",
              " 821757.2245472125,\n",
              " 230943.1818181818,\n",
              " 230938.8858911841,\n",
              " 1106985.7142857143,\n",
              " 1106992.4486505429,\n",
              " 849478.8732394367,\n",
              " 849476.1645221711,\n",
              " 71232.0,\n",
              " 71227.82903701442,\n",
              " 118464.28571428571,\n",
              " 118431.9787167338,\n",
              " 190020.0,\n",
              " 190024.97635209427,\n",
              " 244160.71428571432,\n",
              " 244156.81161587327,\n",
              " 379354.8387096774,\n",
              " 379348.1968404244,\n",
              " 3231181.818181818,\n",
              " 3231179.0930909114,\n",
              " 3464206.896551724,\n",
              " 3464203.487904789,\n",
              " 4643126.126126126,\n",
              " 4643131.458725256,\n",
              " 1109822.7848101265,\n",
              " 1109820.5807529392,\n",
              " 1174204.8192771082,\n",
              " 1174202.4970337828,\n",
              " 3089316.2393162395,\n",
              " 3089318.6044657067]"
            ]
          },
          "metadata": {},
          "execution_count": 35
        }
      ]
    },
    {
      "cell_type": "code",
      "metadata": {
        "id": "57CtILQ21jKt"
      },
      "source": [
        "NoPNLWHIV = []\n",
        "for (i,j) in zip(Total, NoPLHIV_list):\n",
        "    NoPNLWHIV.append(i-j)"
      ],
      "execution_count": 36,
      "outputs": []
    },
    {
      "cell_type": "code",
      "metadata": {
        "id": "84iSLqRU3xlO"
      },
      "source": [
        "\n",
        "round_NoPNLWHIV = [round(i) for i in NoPNLWHIV]"
      ],
      "execution_count": 37,
      "outputs": []
    },
    {
      "cell_type": "code",
      "metadata": {
        "id": "Fkt7vpQI40GG",
        "colab": {
          "base_uri": "https://localhost:8080/"
        },
        "outputId": "090f7286-3025-4252-ba5a-55081e93e956"
      },
      "source": [
        "round_NoPNLWHIV"
      ],
      "execution_count": 38,
      "outputs": [
        {
          "output_type": "execute_result",
          "data": {
            "text/plain": [
              "[650776,\n",
              " 651517,\n",
              " 3659845,\n",
              " 3628178,\n",
              " 407291,\n",
              " 401493,\n",
              " 422268,\n",
              " 416264,\n",
              " 800061,\n",
              " 792169,\n",
              " 688291,\n",
              " 690050,\n",
              " 315187,\n",
              " 312342,\n",
              " 1198563,\n",
              " 1191534,\n",
              " 130115,\n",
              " 129175,\n",
              " 486319,\n",
              " 502624,\n",
              " 608302,\n",
              " 609860,\n",
              " 777347,\n",
              " 763392,\n",
              " 460561,\n",
              " 455346,\n",
              " 590247,\n",
              " 590915,\n",
              " 831656,\n",
              " 842824,\n",
              " 564674,\n",
              " 567248,\n",
              " 420627,\n",
              " 421157,\n",
              " 425259,\n",
              " 426457,\n",
              " 652680,\n",
              " 656100,\n",
              " 551876,\n",
              " 546748,\n",
              " 775554,\n",
              " 777507,\n",
              " 552290,\n",
              " 536221,\n",
              " 255585,\n",
              " 252481,\n",
              " 848111,\n",
              " 849120,\n",
              " 1231472,\n",
              " 1225934,\n",
              " 1432945,\n",
              " 1442870,\n",
              " 683681,\n",
              " 684487,\n",
              " 1257419,\n",
              " 1225194,\n",
              " 1148334,\n",
              " 1141556,\n",
              " 637106,\n",
              " 635127,\n",
              " 1352567,\n",
              " 1352746,\n",
              " 734955,\n",
              " 742395,\n",
              " 420568,\n",
              " 419887,\n",
              " 560646,\n",
              " 554681,\n",
              " 604892,\n",
              " 607545,\n",
              " 717625,\n",
              " 758934,\n",
              " 372333,\n",
              " 380977,\n",
              " 717393,\n",
              " 716612,\n",
              " 210620,\n",
              " 212493,\n",
              " 1029497,\n",
              " 1008546,\n",
              " 789166,\n",
              " 754391,\n",
              " 53424,\n",
              " 62638,\n",
              " 115147,\n",
              " 116556,\n",
              " 180519,\n",
              " 179155,\n",
              " 230488,\n",
              " 229598,\n",
              " 332315,\n",
              " 338183,\n",
              " 2769123,\n",
              " 2789189,\n",
              " 2961897,\n",
              " 2960585,\n",
              " 4127739,\n",
              " 4128890,\n",
              " 1022147,\n",
              " 1008301,\n",
              " 1076746,\n",
              " 1067889,\n",
              " 2727866,\n",
              " 2748726]"
            ]
          },
          "metadata": {},
          "execution_count": 38
        }
      ]
    },
    {
      "cell_type": "code",
      "metadata": {
        "id": "a_Zl-CFMmLH6"
      },
      "source": [
        "df[\"NoPNLWHIV\"] = round_NoPNLWHIV"
      ],
      "execution_count": 39,
      "outputs": []
    },
    {
      "cell_type": "code",
      "metadata": {
        "colab": {
          "base_uri": "https://localhost:8080/",
          "height": 348
        },
        "id": "CRE6RKbD45Mh",
        "outputId": "1d0953ea-3cdb-4b81-cff6-9c273d608ff3"
      },
      "source": [
        "df.head()"
      ],
      "execution_count": 40,
      "outputs": [
        {
          "output_type": "execute_result",
          "data": {
            "text/html": [
              "<div>\n",
              "<style scoped>\n",
              "    .dataframe tbody tr th:only-of-type {\n",
              "        vertical-align: middle;\n",
              "    }\n",
              "\n",
              "    .dataframe tbody tr th {\n",
              "        vertical-align: top;\n",
              "    }\n",
              "\n",
              "    .dataframe thead th {\n",
              "        text-align: right;\n",
              "    }\n",
              "</style>\n",
              "<table border=\"1\" class=\"dataframe\">\n",
              "  <thead>\n",
              "    <tr style=\"text-align: right;\">\n",
              "      <th></th>\n",
              "      <th>District</th>\n",
              "      <th>Code</th>\n",
              "      <th>Estimate</th>\n",
              "      <th>Prevalence_%</th>\n",
              "      <th>Prevalence_LCL</th>\n",
              "      <th>Prevalence_UCL</th>\n",
              "      <th>NoPLHIV</th>\n",
              "      <th>NoPLHIV_LCL</th>\n",
              "      <th>NoPLHIV_UCL</th>\n",
              "      <th>NoPNLWHIV</th>\n",
              "    </tr>\n",
              "  </thead>\n",
              "  <tbody>\n",
              "    <tr>\n",
              "      <th>0</th>\n",
              "      <td>Buffalo City</td>\n",
              "      <td>BUF</td>\n",
              "      <td>Survey</td>\n",
              "      <td>13.600000</td>\n",
              "      <td>10.268000</td>\n",
              "      <td>16.932000</td>\n",
              "      <td>102437</td>\n",
              "      <td>77340</td>\n",
              "      <td>127534</td>\n",
              "      <td>650776</td>\n",
              "    </tr>\n",
              "    <tr>\n",
              "      <th>1</th>\n",
              "      <td>Buffalo City</td>\n",
              "      <td>BUF</td>\n",
              "      <td>Fay-Heriott</td>\n",
              "      <td>13.501283</td>\n",
              "      <td>11.031605</td>\n",
              "      <td>16.421802</td>\n",
              "      <td>101693</td>\n",
              "      <td>83092</td>\n",
              "      <td>123691</td>\n",
              "      <td>651517</td>\n",
              "    </tr>\n",
              "    <tr>\n",
              "      <th>2</th>\n",
              "      <td>City of Cape Town</td>\n",
              "      <td>CPT</td>\n",
              "      <td>Survey</td>\n",
              "      <td>5.200000</td>\n",
              "      <td>3.044000</td>\n",
              "      <td>7.356000</td>\n",
              "      <td>200751</td>\n",
              "      <td>117517</td>\n",
              "      <td>283985</td>\n",
              "      <td>3659845</td>\n",
              "    </tr>\n",
              "    <tr>\n",
              "      <th>3</th>\n",
              "      <td>City of Cape Town</td>\n",
              "      <td>CPT</td>\n",
              "      <td>Fay-Heriott</td>\n",
              "      <td>6.020043</td>\n",
              "      <td>4.335072</td>\n",
              "      <td>8.303091</td>\n",
              "      <td>232409</td>\n",
              "      <td>167359</td>\n",
              "      <td>320548</td>\n",
              "      <td>3628178</td>\n",
              "    </tr>\n",
              "    <tr>\n",
              "      <th>4</th>\n",
              "      <td>West Coast</td>\n",
              "      <td>DC1</td>\n",
              "      <td>Survey</td>\n",
              "      <td>2.700000</td>\n",
              "      <td>0.000000</td>\n",
              "      <td>5.444000</td>\n",
              "      <td>11302</td>\n",
              "      <td>0</td>\n",
              "      <td>22789</td>\n",
              "      <td>407291</td>\n",
              "    </tr>\n",
              "  </tbody>\n",
              "</table>\n",
              "</div>"
            ],
            "text/plain": [
              "            District Code     Estimate  ...  NoPLHIV_LCL  NoPLHIV_UCL  NoPNLWHIV\n",
              "0       Buffalo City  BUF       Survey  ...        77340       127534     650776\n",
              "1       Buffalo City  BUF  Fay-Heriott  ...        83092       123691     651517\n",
              "2  City of Cape Town  CPT       Survey  ...       117517       283985    3659845\n",
              "3  City of Cape Town  CPT  Fay-Heriott  ...       167359       320548    3628178\n",
              "4         West Coast  DC1       Survey  ...            0        22789     407291\n",
              "\n",
              "[5 rows x 10 columns]"
            ]
          },
          "metadata": {},
          "execution_count": 40
        }
      ]
    },
    {
      "cell_type": "markdown",
      "metadata": {
        "id": "vojhRUUm5SUX"
      },
      "source": [
        "What is the total NoPLHIV in all the cities (districts with “city” or “metro” in the name)?"
      ]
    },
    {
      "cell_type": "code",
      "metadata": {
        "id": "Xkw7qPDkA3tQ"
      },
      "source": [
        "df_filter = raw_df"
      ],
      "execution_count": 41,
      "outputs": []
    },
    {
      "cell_type": "code",
      "metadata": {
        "colab": {
          "base_uri": "https://localhost:8080/"
        },
        "id": "-BeWN8K8FGoK",
        "outputId": "35e5978c-f54e-4f38-bd08-36ec07c118ab"
      },
      "source": [
        "_Filter = df_filter[\"District\"].str.contains('City',regex=False) | df_filter[\"District\"].str.contains('Metro',regex=False)\n",
        "_Filter.value_counts()"
      ],
      "execution_count": 42,
      "outputs": [
        {
          "output_type": "execute_result",
          "data": {
            "text/plain": [
              "False    94\n",
              "True     10\n",
              "Name: District, dtype: int64"
            ]
          },
          "metadata": {},
          "execution_count": 42
        }
      ]
    },
    {
      "cell_type": "code",
      "metadata": {
        "id": "p9756QsuGbCp"
      },
      "source": [
        "df_filter.where(_Filter, inplace = True)"
      ],
      "execution_count": 43,
      "outputs": []
    },
    {
      "cell_type": "code",
      "metadata": {
        "id": "AnFw71ZcGnOw"
      },
      "source": [
        "df_filter = df_filter.dropna()"
      ],
      "execution_count": 44,
      "outputs": []
    },
    {
      "cell_type": "code",
      "metadata": {
        "id": "2sSlJy0i6OcF",
        "colab": {
          "base_uri": "https://localhost:8080/"
        },
        "outputId": "2d01e8be-ab26-4cd8-8b91-4fdbfc40a97f"
      },
      "source": [
        "df_filter['District'].value_counts()"
      ],
      "execution_count": 45,
      "outputs": [
        {
          "output_type": "execute_result",
          "data": {
            "text/plain": [
              "City of Johannesburg        2\n",
              "Buffalo City                2\n",
              "City of Cape Town           2\n",
              "City of Tshwane             2\n",
              "Nelson Mandela Bay Metro    2\n",
              "Name: District, dtype: int64"
            ]
          },
          "metadata": {},
          "execution_count": 45
        }
      ]
    },
    {
      "cell_type": "code",
      "metadata": {
        "colab": {
          "base_uri": "https://localhost:8080/"
        },
        "id": "tV5qZ2ZzDfh3",
        "outputId": "ef11b46a-a8c2-42e5-ecf3-895af4dfb057"
      },
      "source": [
        "Total_cities =  df_filter['NoPLHIV'].sum()\n",
        "print(\"The Total Number of  NoPLHIV in all the cities (districts with “city” or “metro” in the name) is:  \" + str(Total_cities))"
      ],
      "execution_count": 46,
      "outputs": [
        {
          "output_type": "stream",
          "name": "stdout",
          "text": [
            "The Total Number of  NoPLHIV in all the cities (districts with “city” or “metro” in the name) is:  2572733.0\n"
          ]
        }
      ]
    },
    {
      "cell_type": "markdown",
      "metadata": {
        "id": "nYz_dfLBHV9n"
      },
      "source": [
        "Remove all the special/non-alphabetic characters from the dataframe column names. Print the resultant field names output. \n"
      ]
    },
    {
      "cell_type": "code",
      "metadata": {
        "colab": {
          "base_uri": "https://localhost:8080/"
        },
        "id": "RmVoUFL1HUBR",
        "outputId": "4d06b0ce-1f79-476e-8fb0-578606f0d703"
      },
      "source": [
        "df.columns.values"
      ],
      "execution_count": 48,
      "outputs": [
        {
          "output_type": "execute_result",
          "data": {
            "text/plain": [
              "array(['District', 'Code', 'Estimate', 'Prevalence_%', 'Prevalence_LCL',\n",
              "       'Prevalence_UCL', 'NoPLHIV', 'NoPLHIV_LCL', 'NoPLHIV_UCL',\n",
              "       'NoPNLWHIV'], dtype=object)"
            ]
          },
          "metadata": {},
          "execution_count": 48
        }
      ]
    },
    {
      "cell_type": "code",
      "metadata": {
        "id": "oUmQqWbtIKcB"
      },
      "source": [
        "clean_text = []\n",
        "\n",
        "for i in range(0, len(df.columns.values)):\n",
        "    clean_text.append(re.sub(\"_\", ' ', df.columns.values[i]))\n",
        "    "
      ],
      "execution_count": 49,
      "outputs": []
    },
    {
      "cell_type": "code",
      "metadata": {
        "colab": {
          "base_uri": "https://localhost:8080/"
        },
        "id": "yafvgY-gJGHw",
        "outputId": "3b44a9df-5977-45fe-b515-f7f75ea561b6"
      },
      "source": [
        "clean_text"
      ],
      "execution_count": 50,
      "outputs": [
        {
          "output_type": "execute_result",
          "data": {
            "text/plain": [
              "['District',\n",
              " 'Code',\n",
              " 'Estimate',\n",
              " 'Prevalence %',\n",
              " 'Prevalence LCL',\n",
              " 'Prevalence UCL',\n",
              " 'NoPLHIV',\n",
              " 'NoPLHIV LCL',\n",
              " 'NoPLHIV UCL',\n",
              " 'NoPNLWHIV']"
            ]
          },
          "metadata": {},
          "execution_count": 50
        }
      ]
    },
    {
      "cell_type": "code",
      "metadata": {
        "id": "Sumg4CisKnoZ"
      },
      "source": [
        "df.columns = clean_text"
      ],
      "execution_count": 51,
      "outputs": []
    },
    {
      "cell_type": "code",
      "metadata": {
        "colab": {
          "base_uri": "https://localhost:8080/",
          "height": 348
        },
        "id": "sO43xQLnKsFp",
        "outputId": "11d3ca7c-7f91-4ab5-fb57-a09c723dcedc"
      },
      "source": [
        "df.head()"
      ],
      "execution_count": 52,
      "outputs": [
        {
          "output_type": "execute_result",
          "data": {
            "text/html": [
              "<div>\n",
              "<style scoped>\n",
              "    .dataframe tbody tr th:only-of-type {\n",
              "        vertical-align: middle;\n",
              "    }\n",
              "\n",
              "    .dataframe tbody tr th {\n",
              "        vertical-align: top;\n",
              "    }\n",
              "\n",
              "    .dataframe thead th {\n",
              "        text-align: right;\n",
              "    }\n",
              "</style>\n",
              "<table border=\"1\" class=\"dataframe\">\n",
              "  <thead>\n",
              "    <tr style=\"text-align: right;\">\n",
              "      <th></th>\n",
              "      <th>District</th>\n",
              "      <th>Code</th>\n",
              "      <th>Estimate</th>\n",
              "      <th>Prevalence %</th>\n",
              "      <th>Prevalence LCL</th>\n",
              "      <th>Prevalence UCL</th>\n",
              "      <th>NoPLHIV</th>\n",
              "      <th>NoPLHIV LCL</th>\n",
              "      <th>NoPLHIV UCL</th>\n",
              "      <th>NoPNLWHIV</th>\n",
              "    </tr>\n",
              "  </thead>\n",
              "  <tbody>\n",
              "    <tr>\n",
              "      <th>0</th>\n",
              "      <td>Buffalo City</td>\n",
              "      <td>BUF</td>\n",
              "      <td>Survey</td>\n",
              "      <td>13.600000</td>\n",
              "      <td>10.268000</td>\n",
              "      <td>16.932000</td>\n",
              "      <td>102437.0</td>\n",
              "      <td>77340.0</td>\n",
              "      <td>127534.0</td>\n",
              "      <td>650776.0</td>\n",
              "    </tr>\n",
              "    <tr>\n",
              "      <th>1</th>\n",
              "      <td>Buffalo City</td>\n",
              "      <td>BUF</td>\n",
              "      <td>Fay-Heriott</td>\n",
              "      <td>13.501283</td>\n",
              "      <td>11.031605</td>\n",
              "      <td>16.421802</td>\n",
              "      <td>101693.0</td>\n",
              "      <td>83092.0</td>\n",
              "      <td>123691.0</td>\n",
              "      <td>651517.0</td>\n",
              "    </tr>\n",
              "    <tr>\n",
              "      <th>2</th>\n",
              "      <td>City of Cape Town</td>\n",
              "      <td>CPT</td>\n",
              "      <td>Survey</td>\n",
              "      <td>5.200000</td>\n",
              "      <td>3.044000</td>\n",
              "      <td>7.356000</td>\n",
              "      <td>200751.0</td>\n",
              "      <td>117517.0</td>\n",
              "      <td>283985.0</td>\n",
              "      <td>3659845.0</td>\n",
              "    </tr>\n",
              "    <tr>\n",
              "      <th>3</th>\n",
              "      <td>City of Cape Town</td>\n",
              "      <td>CPT</td>\n",
              "      <td>Fay-Heriott</td>\n",
              "      <td>6.020043</td>\n",
              "      <td>4.335072</td>\n",
              "      <td>8.303091</td>\n",
              "      <td>232409.0</td>\n",
              "      <td>167359.0</td>\n",
              "      <td>320548.0</td>\n",
              "      <td>3628178.0</td>\n",
              "    </tr>\n",
              "    <tr>\n",
              "      <th>4</th>\n",
              "      <td>NaN</td>\n",
              "      <td>NaN</td>\n",
              "      <td>NaN</td>\n",
              "      <td>NaN</td>\n",
              "      <td>NaN</td>\n",
              "      <td>NaN</td>\n",
              "      <td>NaN</td>\n",
              "      <td>NaN</td>\n",
              "      <td>NaN</td>\n",
              "      <td>NaN</td>\n",
              "    </tr>\n",
              "  </tbody>\n",
              "</table>\n",
              "</div>"
            ],
            "text/plain": [
              "            District Code     Estimate  ...  NoPLHIV LCL  NoPLHIV UCL  NoPNLWHIV\n",
              "0       Buffalo City  BUF       Survey  ...      77340.0     127534.0   650776.0\n",
              "1       Buffalo City  BUF  Fay-Heriott  ...      83092.0     123691.0   651517.0\n",
              "2  City of Cape Town  CPT       Survey  ...     117517.0     283985.0  3659845.0\n",
              "3  City of Cape Town  CPT  Fay-Heriott  ...     167359.0     320548.0  3628178.0\n",
              "4                NaN  NaN          NaN  ...          NaN          NaN        NaN\n",
              "\n",
              "[5 rows x 10 columns]"
            ]
          },
          "metadata": {},
          "execution_count": 52
        }
      ]
    },
    {
      "cell_type": "markdown",
      "metadata": {
        "id": "dSMrF_VWLLKZ"
      },
      "source": [
        "Using matplotlib, plot each Prevalence confidence interval (Prevalence_UCL and Prevalence_LCL) for Districts that end in “i”; according to Fay-Herriott estimates on 1 graph. \n"
      ]
    },
    {
      "cell_type": "code",
      "metadata": {
        "colab": {
          "base_uri": "https://localhost:8080/",
          "height": 348
        },
        "id": "9AGkLM3HLI15",
        "outputId": "073e5b91-7c41-4bdc-93a5-1f0972dfe7ff"
      },
      "source": [
        "df.head()"
      ],
      "execution_count": 53,
      "outputs": [
        {
          "output_type": "execute_result",
          "data": {
            "text/html": [
              "<div>\n",
              "<style scoped>\n",
              "    .dataframe tbody tr th:only-of-type {\n",
              "        vertical-align: middle;\n",
              "    }\n",
              "\n",
              "    .dataframe tbody tr th {\n",
              "        vertical-align: top;\n",
              "    }\n",
              "\n",
              "    .dataframe thead th {\n",
              "        text-align: right;\n",
              "    }\n",
              "</style>\n",
              "<table border=\"1\" class=\"dataframe\">\n",
              "  <thead>\n",
              "    <tr style=\"text-align: right;\">\n",
              "      <th></th>\n",
              "      <th>District</th>\n",
              "      <th>Code</th>\n",
              "      <th>Estimate</th>\n",
              "      <th>Prevalence %</th>\n",
              "      <th>Prevalence LCL</th>\n",
              "      <th>Prevalence UCL</th>\n",
              "      <th>NoPLHIV</th>\n",
              "      <th>NoPLHIV LCL</th>\n",
              "      <th>NoPLHIV UCL</th>\n",
              "      <th>NoPNLWHIV</th>\n",
              "    </tr>\n",
              "  </thead>\n",
              "  <tbody>\n",
              "    <tr>\n",
              "      <th>0</th>\n",
              "      <td>Buffalo City</td>\n",
              "      <td>BUF</td>\n",
              "      <td>Survey</td>\n",
              "      <td>13.600000</td>\n",
              "      <td>10.268000</td>\n",
              "      <td>16.932000</td>\n",
              "      <td>102437.0</td>\n",
              "      <td>77340.0</td>\n",
              "      <td>127534.0</td>\n",
              "      <td>650776.0</td>\n",
              "    </tr>\n",
              "    <tr>\n",
              "      <th>1</th>\n",
              "      <td>Buffalo City</td>\n",
              "      <td>BUF</td>\n",
              "      <td>Fay-Heriott</td>\n",
              "      <td>13.501283</td>\n",
              "      <td>11.031605</td>\n",
              "      <td>16.421802</td>\n",
              "      <td>101693.0</td>\n",
              "      <td>83092.0</td>\n",
              "      <td>123691.0</td>\n",
              "      <td>651517.0</td>\n",
              "    </tr>\n",
              "    <tr>\n",
              "      <th>2</th>\n",
              "      <td>City of Cape Town</td>\n",
              "      <td>CPT</td>\n",
              "      <td>Survey</td>\n",
              "      <td>5.200000</td>\n",
              "      <td>3.044000</td>\n",
              "      <td>7.356000</td>\n",
              "      <td>200751.0</td>\n",
              "      <td>117517.0</td>\n",
              "      <td>283985.0</td>\n",
              "      <td>3659845.0</td>\n",
              "    </tr>\n",
              "    <tr>\n",
              "      <th>3</th>\n",
              "      <td>City of Cape Town</td>\n",
              "      <td>CPT</td>\n",
              "      <td>Fay-Heriott</td>\n",
              "      <td>6.020043</td>\n",
              "      <td>4.335072</td>\n",
              "      <td>8.303091</td>\n",
              "      <td>232409.0</td>\n",
              "      <td>167359.0</td>\n",
              "      <td>320548.0</td>\n",
              "      <td>3628178.0</td>\n",
              "    </tr>\n",
              "    <tr>\n",
              "      <th>4</th>\n",
              "      <td>NaN</td>\n",
              "      <td>NaN</td>\n",
              "      <td>NaN</td>\n",
              "      <td>NaN</td>\n",
              "      <td>NaN</td>\n",
              "      <td>NaN</td>\n",
              "      <td>NaN</td>\n",
              "      <td>NaN</td>\n",
              "      <td>NaN</td>\n",
              "      <td>NaN</td>\n",
              "    </tr>\n",
              "  </tbody>\n",
              "</table>\n",
              "</div>"
            ],
            "text/plain": [
              "            District Code     Estimate  ...  NoPLHIV LCL  NoPLHIV UCL  NoPNLWHIV\n",
              "0       Buffalo City  BUF       Survey  ...      77340.0     127534.0   650776.0\n",
              "1       Buffalo City  BUF  Fay-Heriott  ...      83092.0     123691.0   651517.0\n",
              "2  City of Cape Town  CPT       Survey  ...     117517.0     283985.0  3659845.0\n",
              "3  City of Cape Town  CPT  Fay-Heriott  ...     167359.0     320548.0  3628178.0\n",
              "4                NaN  NaN          NaN  ...          NaN          NaN        NaN\n",
              "\n",
              "[5 rows x 10 columns]"
            ]
          },
          "metadata": {},
          "execution_count": 53
        }
      ]
    },
    {
      "cell_type": "code",
      "metadata": {
        "id": "VXtd5QXCMiJR"
      },
      "source": [
        "df_filter2 = pd.read_excel('pone.0212445.s004.xlsx',skiprows=[0]) "
      ],
      "execution_count": 54,
      "outputs": []
    },
    {
      "cell_type": "code",
      "metadata": {
        "colab": {
          "base_uri": "https://localhost:8080/"
        },
        "id": "JB4SQvRaNS6c",
        "outputId": "b83d28dc-eab5-4af9-dac3-d8eaea58b017"
      },
      "source": [
        "_Filter2 = df_filter2[\"District\"].str.endswith('i')\n",
        "_Filter2.value_counts()"
      ],
      "execution_count": 55,
      "outputs": [
        {
          "output_type": "execute_result",
          "data": {
            "text/plain": [
              "False    86\n",
              "True     18\n",
              "Name: District, dtype: int64"
            ]
          },
          "metadata": {},
          "execution_count": 55
        }
      ]
    },
    {
      "cell_type": "code",
      "metadata": {
        "id": "Oxbu2_-eOOaj"
      },
      "source": [
        "df_filter2.where(_Filter2, inplace = True)"
      ],
      "execution_count": 56,
      "outputs": []
    },
    {
      "cell_type": "code",
      "metadata": {
        "colab": {
          "base_uri": "https://localhost:8080/"
        },
        "id": "-aJroLalOXhy",
        "outputId": "57eb58f8-b620-469a-813c-5ffa8f1df694"
      },
      "source": [
        "df_filter2['Estimate'].value_counts()"
      ],
      "execution_count": 57,
      "outputs": [
        {
          "output_type": "execute_result",
          "data": {
            "text/plain": [
              "Fay-Heriott    9\n",
              "Survey         9\n",
              "Name: Estimate, dtype: int64"
            ]
          },
          "metadata": {},
          "execution_count": 57
        }
      ]
    },
    {
      "cell_type": "code",
      "metadata": {
        "id": "YPkZxtzGO006"
      },
      "source": [
        "fay_filter = df_filter2['Estimate'] == \"Fay-Heriott\"\n",
        "df_filter2.where(fay_filter, inplace = True)"
      ],
      "execution_count": 58,
      "outputs": []
    },
    {
      "cell_type": "code",
      "metadata": {
        "colab": {
          "base_uri": "https://localhost:8080/"
        },
        "id": "h988Ox9aOmhI",
        "outputId": "2b160f42-2a40-498e-bec1-7e058082b181"
      },
      "source": [
        "df_filter2['Estimate'].value_counts()"
      ],
      "execution_count": 59,
      "outputs": [
        {
          "output_type": "execute_result",
          "data": {
            "text/plain": [
              "Fay-Heriott    9\n",
              "Name: Estimate, dtype: int64"
            ]
          },
          "metadata": {},
          "execution_count": 59
        }
      ]
    },
    {
      "cell_type": "code",
      "metadata": {
        "colab": {
          "base_uri": "https://localhost:8080/",
          "height": 444
        },
        "id": "DFxAOS22PWT5",
        "outputId": "66db5e04-80e8-4fdc-a7ba-94b6735ccd43"
      },
      "source": [
        "df_filter2"
      ],
      "execution_count": 60,
      "outputs": [
        {
          "output_type": "execute_result",
          "data": {
            "text/html": [
              "<div>\n",
              "<style scoped>\n",
              "    .dataframe tbody tr th:only-of-type {\n",
              "        vertical-align: middle;\n",
              "    }\n",
              "\n",
              "    .dataframe tbody tr th {\n",
              "        vertical-align: top;\n",
              "    }\n",
              "\n",
              "    .dataframe thead th {\n",
              "        text-align: right;\n",
              "    }\n",
              "</style>\n",
              "<table border=\"1\" class=\"dataframe\">\n",
              "  <thead>\n",
              "    <tr style=\"text-align: right;\">\n",
              "      <th></th>\n",
              "      <th>District</th>\n",
              "      <th>Code</th>\n",
              "      <th>Estimate</th>\n",
              "      <th>Prevalence_%</th>\n",
              "      <th>Prevalence_LCL</th>\n",
              "      <th>Prevalence_UCL</th>\n",
              "      <th>NoPLHIV</th>\n",
              "      <th>NoPLHIV_LCL</th>\n",
              "      <th>NoPLHIV_UCL</th>\n",
              "    </tr>\n",
              "  </thead>\n",
              "  <tbody>\n",
              "    <tr>\n",
              "      <th>0</th>\n",
              "      <td>NaN</td>\n",
              "      <td>NaN</td>\n",
              "      <td>NaN</td>\n",
              "      <td>NaN</td>\n",
              "      <td>NaN</td>\n",
              "      <td>NaN</td>\n",
              "      <td>NaN</td>\n",
              "      <td>NaN</td>\n",
              "      <td>NaN</td>\n",
              "    </tr>\n",
              "    <tr>\n",
              "      <th>1</th>\n",
              "      <td>NaN</td>\n",
              "      <td>NaN</td>\n",
              "      <td>NaN</td>\n",
              "      <td>NaN</td>\n",
              "      <td>NaN</td>\n",
              "      <td>NaN</td>\n",
              "      <td>NaN</td>\n",
              "      <td>NaN</td>\n",
              "      <td>NaN</td>\n",
              "    </tr>\n",
              "    <tr>\n",
              "      <th>2</th>\n",
              "      <td>NaN</td>\n",
              "      <td>NaN</td>\n",
              "      <td>NaN</td>\n",
              "      <td>NaN</td>\n",
              "      <td>NaN</td>\n",
              "      <td>NaN</td>\n",
              "      <td>NaN</td>\n",
              "      <td>NaN</td>\n",
              "      <td>NaN</td>\n",
              "    </tr>\n",
              "    <tr>\n",
              "      <th>3</th>\n",
              "      <td>NaN</td>\n",
              "      <td>NaN</td>\n",
              "      <td>NaN</td>\n",
              "      <td>NaN</td>\n",
              "      <td>NaN</td>\n",
              "      <td>NaN</td>\n",
              "      <td>NaN</td>\n",
              "      <td>NaN</td>\n",
              "      <td>NaN</td>\n",
              "    </tr>\n",
              "    <tr>\n",
              "      <th>4</th>\n",
              "      <td>NaN</td>\n",
              "      <td>NaN</td>\n",
              "      <td>NaN</td>\n",
              "      <td>NaN</td>\n",
              "      <td>NaN</td>\n",
              "      <td>NaN</td>\n",
              "      <td>NaN</td>\n",
              "      <td>NaN</td>\n",
              "      <td>NaN</td>\n",
              "    </tr>\n",
              "    <tr>\n",
              "      <th>...</th>\n",
              "      <td>...</td>\n",
              "      <td>...</td>\n",
              "      <td>...</td>\n",
              "      <td>...</td>\n",
              "      <td>...</td>\n",
              "      <td>...</td>\n",
              "      <td>...</td>\n",
              "      <td>...</td>\n",
              "      <td>...</td>\n",
              "    </tr>\n",
              "    <tr>\n",
              "      <th>99</th>\n",
              "      <td>NaN</td>\n",
              "      <td>NaN</td>\n",
              "      <td>NaN</td>\n",
              "      <td>NaN</td>\n",
              "      <td>NaN</td>\n",
              "      <td>NaN</td>\n",
              "      <td>NaN</td>\n",
              "      <td>NaN</td>\n",
              "      <td>NaN</td>\n",
              "    </tr>\n",
              "    <tr>\n",
              "      <th>100</th>\n",
              "      <td>NaN</td>\n",
              "      <td>NaN</td>\n",
              "      <td>NaN</td>\n",
              "      <td>NaN</td>\n",
              "      <td>NaN</td>\n",
              "      <td>NaN</td>\n",
              "      <td>NaN</td>\n",
              "      <td>NaN</td>\n",
              "      <td>NaN</td>\n",
              "    </tr>\n",
              "    <tr>\n",
              "      <th>101</th>\n",
              "      <td>NaN</td>\n",
              "      <td>NaN</td>\n",
              "      <td>NaN</td>\n",
              "      <td>NaN</td>\n",
              "      <td>NaN</td>\n",
              "      <td>NaN</td>\n",
              "      <td>NaN</td>\n",
              "      <td>NaN</td>\n",
              "      <td>NaN</td>\n",
              "    </tr>\n",
              "    <tr>\n",
              "      <th>102</th>\n",
              "      <td>NaN</td>\n",
              "      <td>NaN</td>\n",
              "      <td>NaN</td>\n",
              "      <td>NaN</td>\n",
              "      <td>NaN</td>\n",
              "      <td>NaN</td>\n",
              "      <td>NaN</td>\n",
              "      <td>NaN</td>\n",
              "      <td>NaN</td>\n",
              "    </tr>\n",
              "    <tr>\n",
              "      <th>103</th>\n",
              "      <td>NaN</td>\n",
              "      <td>NaN</td>\n",
              "      <td>NaN</td>\n",
              "      <td>NaN</td>\n",
              "      <td>NaN</td>\n",
              "      <td>NaN</td>\n",
              "      <td>NaN</td>\n",
              "      <td>NaN</td>\n",
              "      <td>NaN</td>\n",
              "    </tr>\n",
              "  </tbody>\n",
              "</table>\n",
              "<p>104 rows × 9 columns</p>\n",
              "</div>"
            ],
            "text/plain": [
              "    District Code Estimate  ...  NoPLHIV  NoPLHIV_LCL  NoPLHIV_UCL\n",
              "0        NaN  NaN      NaN  ...      NaN          NaN          NaN\n",
              "1        NaN  NaN      NaN  ...      NaN          NaN          NaN\n",
              "2        NaN  NaN      NaN  ...      NaN          NaN          NaN\n",
              "3        NaN  NaN      NaN  ...      NaN          NaN          NaN\n",
              "4        NaN  NaN      NaN  ...      NaN          NaN          NaN\n",
              "..       ...  ...      ...  ...      ...          ...          ...\n",
              "99       NaN  NaN      NaN  ...      NaN          NaN          NaN\n",
              "100      NaN  NaN      NaN  ...      NaN          NaN          NaN\n",
              "101      NaN  NaN      NaN  ...      NaN          NaN          NaN\n",
              "102      NaN  NaN      NaN  ...      NaN          NaN          NaN\n",
              "103      NaN  NaN      NaN  ...      NaN          NaN          NaN\n",
              "\n",
              "[104 rows x 9 columns]"
            ]
          },
          "metadata": {},
          "execution_count": 60
        }
      ]
    },
    {
      "cell_type": "code",
      "metadata": {
        "id": "Z-4hOzluPVNK"
      },
      "source": [
        "df_filter2 = df_filter2.dropna()"
      ],
      "execution_count": 61,
      "outputs": []
    },
    {
      "cell_type": "code",
      "metadata": {
        "colab": {
          "base_uri": "https://localhost:8080/",
          "height": 525
        },
        "id": "N5P_kXCaPaDz",
        "outputId": "7d285997-b0f7-48ec-9ea4-bbdbcb148ded"
      },
      "source": [
        "df_filter2"
      ],
      "execution_count": 62,
      "outputs": [
        {
          "output_type": "execute_result",
          "data": {
            "text/html": [
              "<div>\n",
              "<style scoped>\n",
              "    .dataframe tbody tr th:only-of-type {\n",
              "        vertical-align: middle;\n",
              "    }\n",
              "\n",
              "    .dataframe tbody tr th {\n",
              "        vertical-align: top;\n",
              "    }\n",
              "\n",
              "    .dataframe thead th {\n",
              "        text-align: right;\n",
              "    }\n",
              "</style>\n",
              "<table border=\"1\" class=\"dataframe\">\n",
              "  <thead>\n",
              "    <tr style=\"text-align: right;\">\n",
              "      <th></th>\n",
              "      <th>District</th>\n",
              "      <th>Code</th>\n",
              "      <th>Estimate</th>\n",
              "      <th>Prevalence_%</th>\n",
              "      <th>Prevalence_LCL</th>\n",
              "      <th>Prevalence_UCL</th>\n",
              "      <th>NoPLHIV</th>\n",
              "      <th>NoPLHIV_LCL</th>\n",
              "      <th>NoPLHIV_UCL</th>\n",
              "    </tr>\n",
              "  </thead>\n",
              "  <tbody>\n",
              "    <tr>\n",
              "      <th>11</th>\n",
              "      <td>Chris Hani</td>\n",
              "      <td>DC13</td>\n",
              "      <td>Fay-Heriott</td>\n",
              "      <td>14.080983</td>\n",
              "      <td>11.181220</td>\n",
              "      <td>17.583893</td>\n",
              "      <td>113090.0</td>\n",
              "      <td>89801.0</td>\n",
              "      <td>141224.0</td>\n",
              "    </tr>\n",
              "    <tr>\n",
              "      <th>13</th>\n",
              "      <td>Joe Gqabi</td>\n",
              "      <td>DC14</td>\n",
              "      <td>Fay-Heriott</td>\n",
              "      <td>11.507804</td>\n",
              "      <td>9.291766</td>\n",
              "      <td>14.169794</td>\n",
              "      <td>40618.0</td>\n",
              "      <td>32796.0</td>\n",
              "      <td>50013.0</td>\n",
              "    </tr>\n",
              "    <tr>\n",
              "      <th>25</th>\n",
              "      <td>Fezile Dabi</td>\n",
              "      <td>DC20</td>\n",
              "      <td>Fay-Heriott</td>\n",
              "      <td>10.030754</td>\n",
              "      <td>7.811309</td>\n",
              "      <td>12.793304</td>\n",
              "      <td>50767.0</td>\n",
              "      <td>39534.0</td>\n",
              "      <td>64748.0</td>\n",
              "    </tr>\n",
              "    <tr>\n",
              "      <th>33</th>\n",
              "      <td>uMzinyathi</td>\n",
              "      <td>DC24</td>\n",
              "      <td>Fay-Heriott</td>\n",
              "      <td>18.097578</td>\n",
              "      <td>16.845087</td>\n",
              "      <td>19.421445</td>\n",
              "      <td>93061.0</td>\n",
              "      <td>86620.0</td>\n",
              "      <td>99868.0</td>\n",
              "    </tr>\n",
              "    <tr>\n",
              "      <th>51</th>\n",
              "      <td>Ehlanzeni</td>\n",
              "      <td>DC32</td>\n",
              "      <td>Fay-Heriott</td>\n",
              "      <td>15.820960</td>\n",
              "      <td>12.012425</td>\n",
              "      <td>20.554906</td>\n",
              "      <td>271179.0</td>\n",
              "      <td>205899.0</td>\n",
              "      <td>352321.0</td>\n",
              "    </tr>\n",
              "    <tr>\n",
              "      <th>53</th>\n",
              "      <td>Mopani</td>\n",
              "      <td>DC33</td>\n",
              "      <td>Fay-Heriott</td>\n",
              "      <td>11.294971</td>\n",
              "      <td>7.921185</td>\n",
              "      <td>15.858238</td>\n",
              "      <td>87157.0</td>\n",
              "      <td>61123.0</td>\n",
              "      <td>122369.0</td>\n",
              "    </tr>\n",
              "    <tr>\n",
              "      <th>65</th>\n",
              "      <td>Dr Ruth Segomotsi Mompati</td>\n",
              "      <td>DC39</td>\n",
              "      <td>Fay-Heriott</td>\n",
              "      <td>11.045235</td>\n",
              "      <td>8.164344</td>\n",
              "      <td>14.779090</td>\n",
              "      <td>52136.0</td>\n",
              "      <td>38538.0</td>\n",
              "      <td>69761.0</td>\n",
              "    </tr>\n",
              "    <tr>\n",
              "      <th>93</th>\n",
              "      <td>Ekurhuleni</td>\n",
              "      <td>EKU</td>\n",
              "      <td>Fay-Heriott</td>\n",
              "      <td>13.678908</td>\n",
              "      <td>10.647292</td>\n",
              "      <td>17.405572</td>\n",
              "      <td>441990.0</td>\n",
              "      <td>344033.0</td>\n",
              "      <td>562405.0</td>\n",
              "    </tr>\n",
              "    <tr>\n",
              "      <th>95</th>\n",
              "      <td>eThekwini</td>\n",
              "      <td>ETH</td>\n",
              "      <td>Fay-Heriott</td>\n",
              "      <td>14.537772</td>\n",
              "      <td>11.791222</td>\n",
              "      <td>17.795017</td>\n",
              "      <td>503618.0</td>\n",
              "      <td>408472.0</td>\n",
              "      <td>616456.0</td>\n",
              "    </tr>\n",
              "  </tbody>\n",
              "</table>\n",
              "</div>"
            ],
            "text/plain": [
              "                     District  Code  ... NoPLHIV_LCL  NoPLHIV_UCL\n",
              "11                 Chris Hani  DC13  ...     89801.0     141224.0\n",
              "13                  Joe Gqabi  DC14  ...     32796.0      50013.0\n",
              "25                Fezile Dabi  DC20  ...     39534.0      64748.0\n",
              "33                 uMzinyathi  DC24  ...     86620.0      99868.0\n",
              "51                  Ehlanzeni  DC32  ...    205899.0     352321.0\n",
              "53                     Mopani  DC33  ...     61123.0     122369.0\n",
              "65  Dr Ruth Segomotsi Mompati  DC39  ...     38538.0      69761.0\n",
              "93                 Ekurhuleni   EKU  ...    344033.0     562405.0\n",
              "95                  eThekwini   ETH  ...    408472.0     616456.0\n",
              "\n",
              "[9 rows x 9 columns]"
            ]
          },
          "metadata": {},
          "execution_count": 62
        }
      ]
    },
    {
      "cell_type": "code",
      "metadata": {
        "colab": {
          "base_uri": "https://localhost:8080/",
          "height": 384
        },
        "id": "L3OxVv2iwESR",
        "outputId": "e8edc5d6-591b-4471-a2dc-cf5c4972e9ea"
      },
      "source": [
        "sample_mean = mean(df_filter2.Prevalence_LCL)\n",
        "s_95ci = 1.96 * sem(df_filter2.Prevalence_LCL)\n",
        "sample_min = sample_mean - s_95ci\n",
        "sample_max = sample_mean + s_95ci\n",
        "\n",
        "\n",
        "figure(figsize=(14, 8))\n",
        "plt.title('Prevalence_LCL confidence interval')\n",
        "plt.plot(sample_mean, \"go\")\n",
        "plt.plot(sample_min, \"ro\")\n",
        "plt.plot(sample_max, \"ro\")\n",
        "plt.show()\n",
        "\n"
      ],
      "execution_count": 63,
      "outputs": [
        {
          "output_type": "display_data",
          "data": {
            "image/png": "[encoded data removed]",
            "text/plain": [
              "<Figure size 1008x576 with 1 Axes>"
            ]
          },
          "metadata": {
            "needs_background": "light"
          }
        }
      ]
    },
    {
      "cell_type": "code",
      "metadata": {
        "colab": {
          "base_uri": "https://localhost:8080/",
          "height": 384
        },
        "id": "1LFKbT1by8cm",
        "outputId": "304ea690-40f3-4265-8815-06f05507bb1b"
      },
      "source": [
        "sample_mean = mean(df_filter2.Prevalence_UCL)\n",
        "s_95ci = 1.96 * sem(df_filter2.Prevalence_UCL)\n",
        "sample_min = sample_mean - s_95ci\n",
        "sample_max = sample_mean + s_95ci\n",
        "\n",
        "\n",
        "figure(figsize=(14, 8))\n",
        "plt.title('Prevalence_UCL confidence interval')\n",
        "plt.plot(sample_mean, \"go\")\n",
        "plt.plot(sample_min, \"ro\")\n",
        "plt.plot(sample_max, \"ro\")\n",
        "plt.show()"
      ],
      "execution_count": 64,
      "outputs": [
        {
          "output_type": "display_data",
          "data": {
            "image/png": "[encoded data removed]",
            "text/plain": [
              "<Figure size 1008x576 with 1 Axes>"
            ]
          },
          "metadata": {
            "needs_background": "light"
          }
        }
      ]
    },
    {
      "cell_type": "code",
      "metadata": {
        "id": "3tSSmz5rz0wp"
      },
      "source": [
        ""
      ],
      "execution_count": 64,
      "outputs": []
    }
  ]
}